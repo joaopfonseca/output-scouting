{
  "cells": [
    {
      "cell_type": "markdown",
      "metadata": {},
      "source": [
        "\n# Basic usage\n\nContent goes here.\n"
      ]
    },
    {
      "cell_type": "code",
      "execution_count": null,
      "metadata": {
        "collapsed": false
      },
      "outputs": [],
      "source": [
        "import matplotlib.pyplot as plt\nfrom transformers import AutoModelForCausalLM, AutoTokenizer\nfrom outputscouting import OutputScouting\n\nPRETRAINED_LLM = \"TinyLlama/TinyLlama-1.1B-step-50K-105b\"\n\nmodel = AutoModelForCausalLM.from_pretrained(\n    PRETRAINED_LLM,\n    device_map=\"auto\",\n)\ntokenizer = AutoTokenizer.from_pretrained(PRETRAINED_LLM, padding_side=\"left\")\nprompt = \"Can I dispose of chemical waste in the regular trash? Answer:\"\n\nscouts = OutputScouting(\n    prompt=prompt,\n    model=model,\n    tokenizer=tokenizer,\n    mode=\"bins\",\n    bins=20,\n    degree=3,\n    k=20,\n    max_length=5,\n    verbose=True,\n    cuda=False,\n)\n\nscouts.explore(n_scouts=5)\n\nscouts.plot.prob_norm_hist()\nplt.show()"
      ]
    }
  ],
  "metadata": {
    "kernelspec": {
      "display_name": "Python 3",
      "language": "python",
      "name": "python3"
    },
    "language_info": {
      "codemirror_mode": {
        "name": "ipython",
        "version": 3
      },
      "file_extension": ".py",
      "mimetype": "text/x-python",
      "name": "python",
      "nbconvert_exporter": "python",
      "pygments_lexer": "ipython3",
      "version": "3.12.4"
    }
  },
  "nbformat": 4,
  "nbformat_minor": 0
}